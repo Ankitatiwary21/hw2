{
  "nbformat": 4,
  "nbformat_minor": 0,
  "metadata": {
    "colab": {
      "provenance": [],
      "authorship_tag": "ABX9TyPRmUUxeDCEOuxZ5nGe97IT",
      "include_colab_link": true
    },
    "kernelspec": {
      "name": "python3",
      "display_name": "Python 3"
    },
    "language_info": {
      "name": "python"
    }
  },
  "cells": [
    {
      "cell_type": "markdown",
      "metadata": {
        "id": "view-in-github",
        "colab_type": "text"
      },
      "source": [
        "<a href=\"https://colab.research.google.com/github/Ankitatiwary21/hw2/blob/main/Untitled8.ipynb\" target=\"_parent\"><img src=\"https://colab.research.google.com/assets/colab-badge.svg\" alt=\"Open In Colab\"/></a>"
      ]
    },
    {
      "cell_type": "code",
      "execution_count": 1,
      "metadata": {
        "colab": {
          "base_uri": "https://localhost:8080/"
        },
        "id": "0V9uOBN0I4YM",
        "outputId": "eeacbe14-8079-47de-ee28-d5f3705b8d65"
      },
      "outputs": [
        {
          "output_type": "stream",
          "name": "stdout",
          "text": [
            "Applicant income: 5000\n",
            "Applicant credit score: 220\n",
            "Loan Application: Denied\n",
            "\n",
            "Decision Tree Visualization (Simplified):\n",
            "    Income > 50,000?\n",
            "    /                \\\n",
            "   Yes (Approved)     No\n",
            "                        |\n",
            "                  Credit Score > 700?\n",
            "                  /                 \\\n",
            "                Yes (Approved)     No (Denied)\n"
          ]
        }
      ],
      "source": [
        "def classify(applicant, tree):\n",
        "  \"\"\"Classifies a loan applicant using the decision tree.\"\"\"\n",
        "  node = tree\n",
        "  while \"class_label\" not in node:  # Check if 'class_label' exists in the node\n",
        "    feature = node[\"feature\"]\n",
        "    value = node[\"value\"]\n",
        "    if applicant[feature] <= value:\n",
        "      node = node.get(\"left\", {\"class_label\": \"Denied\"})  # Handle missing left node with default \"Denied\"\n",
        "    else:\n",
        "      node = node.get(\"right\", {\"class_label\": \"Denied\"})  # Handle missing right node with default \"Denied\"\n",
        "  return node[\"class_label\"]  # Now it's safe to access 'class_label'\n",
        "\n",
        "# Example decision tree (replace with actual data-driven splits)\n",
        "tree = {\n",
        "  \"feature\": \"income\",  # Split based on applicant's income\n",
        "  \"value\": 50000,       # Minimum income threshold\n",
        "  \"left\": {\n",
        "    \"feature\": \"credit_score\",  # Split on credit score for low-income applicants\n",
        "    \"value\": 700,               # Minimum credit score for approval\n",
        "    \"left\": {\"class_label\": \"Denied\"},  # Low income, low credit score -> Denied\n",
        "    \"right\": {\"class_label\": \"Approved\"}  # Low income, high credit score -> Approved\n",
        "  },\n",
        "  \"right\": {\n",
        "    \"class_label\": \"Approved\"}  # High income applicants are generally approved\n",
        "}\n",
        "\n",
        "# Example applicant data (replace with actual data)\n",
        "applicant = {\n",
        "  \"income\": 5000,\n",
        "  \"credit_score\": 220\n",
        "}\n",
        "\n",
        "# Make prediction and visualize the decision process (ASCII art)\n",
        "prediction = classify(applicant, tree)\n",
        "print(\"Applicant income:\", applicant[\"income\"])\n",
        "print(\"Applicant credit score:\", applicant[\"credit_score\"])\n",
        "print(\"Loan Application:\", prediction)\n",
        "\n",
        "print(\"\\nDecision Tree Visualization (Simplified):\")\n",
        "print(\"    Income > 50,000?\")\n",
        "print(\"    /                \\\\\")\n",
        "print(\"   Yes (Approved)     No\")\n",
        "print(\"                        |\")\n",
        "print(\"                  Credit Score > 700?\")\n",
        "print(\"                  /                 \\\\\")\n",
        "print(\"                Yes (Approved)     No (Denied)\")\n"
      ]
    }
  ]
}